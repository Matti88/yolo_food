{
 "cells": [
  {
   "cell_type": "code",
   "execution_count": 5,
   "id": "82e2bd53",
   "metadata": {},
   "outputs": [],
   "source": [
    "# TRAINING\n",
    "\n",
    "import numpy as np\n",
    "import os\n",
    "import cv2\n",
    "import time\n",
    "from ultralytics import YOLO\n",
    "\n",
    "model = YOLO(\"yolov8n.pt\")\n",
    "\n",
    "results = model.train(data = \"coco128.yaml\", epochs = 10)"
   ]
  },
  {
   "cell_type": "code",
   "execution_count": 6,
   "id": "5b50b58e",
   "metadata": {
    "scrolled": true
   },
   "outputs": [
    {
     "name": "stderr",
     "output_type": "stream",
     "text": [
      "WARNING  'source' is missing. Using 'source=https://ultralytics.com/images/bus.jpg'.\n",
      "\n",
      "Found https:\\ultralytics.com\\images\\bus.jpg locally at bus.jpg\n",
      "image 1/1 C:\\Users\\evasu\\All_I_can_eat\\bus.jpg: 640x480 3 persons, 1 bus, 172.9ms\n",
      "Speed: 0.0ms preprocess, 172.9ms inference, 0.0ms postprocess per image at shape (1, 3, 640, 640)\n"
     ]
    }
   ],
   "source": [
    "# PREDICTIONS\n",
    "\n",
    "# define some parameters\n",
    "CONFIDENCE = 0.5\n",
    "font_scale = 1\n",
    "thickness = 1\n",
    "\n",
    "# loading the YOLOv8 model with the default weight file\n",
    "# model = YOLO(\"yolov8n.pt\")\n",
    "\n",
    "# loading all the class labels (objects)\n",
    "#labels = open(\"coco128.names\").read().strip().split(\"\\n\")\n",
    "\n",
    "# generating colors for each object for later plotting\n",
    "# colors = np.random.randint(0, 255, size=(len(labels), 3), dtype=\"uint8\")\n",
    "\n",
    "path_name = \"C:\\\\Users\\\\evasu\\\\Downloads\\\\fante.jpg\"\n",
    "image = cv2.imread(path_name)\n",
    "file_name = os.path.basename(path_name) # \"dog.jpg\"\n",
    "filename, ext = file_name.split(\".\") # \"dog\", \"jpg\"\n",
    "\n",
    "# measure how much it took in seconds\n",
    "start = time.perf_counter()\n",
    "# run inference on the image \n",
    "# see: https://docs.ultralytics.com/modes/predict/#arguments for full list of arguments\n",
    "results = model.predict(image, conf=CONFIDENCE)[0]\n",
    "time_took = time.perf_counter() - start\n",
    "#print(f\"Time took: {time_took:.2f}s\")\n",
    "#print(results.boxes.data)"
   ]
  },
  {
   "cell_type": "code",
   "execution_count": 4,
   "id": "b7090780",
   "metadata": {},
   "outputs": [
    {
     "ename": "AttributeError",
     "evalue": "'NoneType' object has no attribute 'copy'",
     "output_type": "error",
     "traceback": [
      "\u001b[1;31m----------------------------------------------------------------\u001b[0m",
      "\u001b[1;31mAttributeError\u001b[0m                 Traceback (most recent call last)",
      "Cell \u001b[1;32mIn[4], line 22\u001b[0m\n\u001b[0;32m     20\u001b[0m text_offset_y \u001b[38;5;241m=\u001b[39m ymin \u001b[38;5;241m-\u001b[39m \u001b[38;5;241m5\u001b[39m\n\u001b[0;32m     21\u001b[0m box_coords \u001b[38;5;241m=\u001b[39m ((text_offset_x, text_offset_y), (text_offset_x \u001b[38;5;241m+\u001b[39m text_width \u001b[38;5;241m+\u001b[39m \u001b[38;5;241m2\u001b[39m, text_offset_y \u001b[38;5;241m-\u001b[39m text_height))\n\u001b[1;32m---> 22\u001b[0m overlay \u001b[38;5;241m=\u001b[39m \u001b[43mimage\u001b[49m\u001b[38;5;241;43m.\u001b[39;49m\u001b[43mcopy\u001b[49m()\n\u001b[0;32m     23\u001b[0m cv2\u001b[38;5;241m.\u001b[39mrectangle(overlay, box_coords[\u001b[38;5;241m0\u001b[39m], box_coords[\u001b[38;5;241m1\u001b[39m], color\u001b[38;5;241m=\u001b[39m\u001b[38;5;241m1\u001b[39m, thickness\u001b[38;5;241m=\u001b[39mcv2\u001b[38;5;241m.\u001b[39mFILLED)\n\u001b[0;32m     24\u001b[0m \u001b[38;5;66;03m# add opacity (transparency to the box)\u001b[39;00m\n",
      "\u001b[1;31mAttributeError\u001b[0m: 'NoneType' object has no attribute 'copy'"
     ]
    }
   ],
   "source": [
    "# loop over the detections\n",
    "for data in results.boxes.data.tolist():\n",
    "    # get the bounding box coordinates, confidence, and class id \n",
    "    xmin, ymin, xmax, ymax, confidence, class_id = data\n",
    "    # converting the coordinates and the class id to integers\n",
    "    xmin = int(xmin)\n",
    "    ymin = int(ymin)\n",
    "    xmax = int(xmax)\n",
    "    ymax = int(ymax)\n",
    "    class_id = int(class_id)\n",
    "\n",
    "    # draw a bounding box rectangle and label on the image\n",
    "    # color = [int(c) for c in colors[class_id]]\n",
    "    cv2.rectangle(image, (xmin, ymin), (xmax, ymax), color=1, thickness=thickness)\n",
    "    text = \"test\" \n",
    "#     f\"{labels[class_id]}: {confidence:.2f}\"\n",
    "    # calculate text width & height to draw the transparent boxes as background of the text\n",
    "    (text_width, text_height) = cv2.getTextSize(text, cv2.FONT_HERSHEY_SIMPLEX, fontScale=font_scale, thickness=thickness)[0]\n",
    "    text_offset_x = xmin\n",
    "    text_offset_y = ymin - 5\n",
    "    box_coords = ((text_offset_x, text_offset_y), (text_offset_x + text_width + 2, text_offset_y - text_height))\n",
    "    overlay = image.copy()\n",
    "    cv2.rectangle(overlay, box_coords[0], box_coords[1], color=1, thickness=cv2.FILLED)\n",
    "    # add opacity (transparency to the box)\n",
    "    image = cv2.addWeighted(overlay, 0.6, image, 0.4, 0)\n",
    "    # now put the text (label: confidence %)\n",
    "    cv2.putText(image, text, (xmin, ymin - 5), cv2.FONT_HERSHEY_SIMPLEX,\n",
    "        fontScale=font_scale, color=(0, 0, 0), thickness=thickness)\n",
    "\n",
    "# display output image\n",
    "cv2.imshow(\"Image\", image)\n",
    "cv2.waitKey(0)\n",
    "# save output image to disk\n",
    "cv2.imwrite(filename + \"_yolo8.\" + ext, image)"
   ]
  }
 ],
 "metadata": {
  "kernelspec": {
   "display_name": "Python 3 (ipykernel)",
   "language": "python",
   "name": "python3"
  },
  "language_info": {
   "codemirror_mode": {
    "name": "ipython",
    "version": 3
   },
   "file_extension": ".py",
   "mimetype": "text/x-python",
   "name": "python",
   "nbconvert_exporter": "python",
   "pygments_lexer": "ipython3",
   "version": "3.11.4"
  }
 },
 "nbformat": 4,
 "nbformat_minor": 5
}
