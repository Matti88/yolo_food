{
 "cells": [
  {
   "cell_type": "code",
   "execution_count": null,
   "id": "82e2bd53",
   "metadata": {},
   "outputs": [],
   "source": [
    "# TRAINING\n",
    "\n",
    "import numpy as np\n",
    "import os\n",
    "import cv2\n",
    "import time\n",
    "from ultralytics import YOLO"
   ]
  },
  {
   "cell_type": "code",
   "execution_count": null,
   "id": "97ca9117",
   "metadata": {},
   "outputs": [],
   "source": [
    "# load a pretrained model s size (recommended for training)\n",
    "model = YOLO('yolov8s.pt')  "
   ]
  },
  {
   "cell_type": "code",
   "execution_count": null,
   "id": "9168124a",
   "metadata": {},
   "outputs": [],
   "source": [
    "# Train the model\n",
    "model.train(data='fridge_YOLO_2/yolo_mine.yaml', epochs=1, imgsz=640)"
   ]
  },
  {
   "cell_type": "code",
   "execution_count": null,
   "id": "db98178c",
   "metadata": {},
   "outputs": [],
   "source": [
    "# exporting the model to the wanted format tfJs for the web\n",
    "some_export = model.export(format='tfjs')"
   ]
  },
  {
   "cell_type": "code",
   "execution_count": null,
   "id": "bd22623d",
   "metadata": {},
   "outputs": [],
   "source": []
  }
 ],
 "metadata": {
  "kernelspec": {
   "display_name": "Python 3 (ipykernel)",
   "language": "python",
   "name": "python3"
  },
  "language_info": {
   "codemirror_mode": {
    "name": "ipython",
    "version": 3
   },
   "file_extension": ".py",
   "mimetype": "text/x-python",
   "name": "python",
   "nbconvert_exporter": "python",
   "pygments_lexer": "ipython3",
   "version": "3.11.4"
  }
 },
 "nbformat": 4,
 "nbformat_minor": 5
}
