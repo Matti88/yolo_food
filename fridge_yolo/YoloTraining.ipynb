{
 "cells": [
  {
   "cell_type": "code",
   "execution_count": 1,
   "id": "82e2bd53",
   "metadata": {},
   "outputs": [],
   "source": [
    "# TRAINING\n",
    "\n",
    "import numpy as np\n",
    "import os\n",
    "import cv2\n",
    "import time\n",
    "from ultralytics import YOLO"
   ]
  },
  {
   "cell_type": "code",
   "execution_count": 2,
   "id": "97ca9117",
   "metadata": {},
   "outputs": [],
   "source": [
    "model = YOLO(\"yolov8n.pt\")"
   ]
  },
  {
   "cell_type": "code",
   "execution_count": 5,
   "id": "089e1823",
   "metadata": {},
   "outputs": [
    {
     "name": "stderr",
     "output_type": "stream",
     "text": [
      "Ultralytics YOLOv8.0.118 🚀 Python-3.11.1 torch-2.0.1 CPU\n",
      "YOLOv8n summary (fused): 168 layers, 3151904 parameters, 0 gradients\n",
      "\n",
      "\u001b[34m\u001b[1mPyTorch:\u001b[0m starting from yolov8n.pt with input shape (1, 3, 640, 640) BCHW and output shape(s) (1, 84, 8400) (6.2 MB)\n",
      "\n",
      "\u001b[34m\u001b[1mONNX:\u001b[0m starting export with onnx 1.14.0 opset 17...\n",
      "\u001b[34m\u001b[1mONNX:\u001b[0m export success ✅ 0.4s, saved as yolov8n.onnx (12.2 MB)\n",
      "\n",
      "Export complete (0.7s)\n",
      "Results saved to \u001b[1m/Users/matteo/Desktop/S4W4A/Projects/Personal/yolo_food/fridge_yolo\u001b[0m\n",
      "Predict:         yolo predict task=detect model=yolov8n.onnx imgsz=640 \n",
      "Validate:        yolo val task=detect model=yolov8n.onnx imgsz=640 data=coco.yaml \n",
      "Visualize:       https://netron.app\n"
     ]
    },
    {
     "name": "stdout",
     "output_type": "stream",
     "text": [
      "================ Diagnostic Run torch.onnx.export version 2.0.1 ================\n",
      "verbose: False, log level: Level.ERROR\n",
      "======================= 0 NONE 0 NOTE 0 WARNING 0 ERROR ========================\n",
      "\n"
     ]
    }
   ],
   "source": [
    "some_export = model.export(format='tfjs')"
   ]
  },
  {
   "cell_type": "code",
   "execution_count": null,
   "id": "5b50b58e",
   "metadata": {
    "scrolled": true
   },
   "outputs": [],
   "source": [
    "# PREDICTIONS\n",
    "\n",
    "# define some parameters\n",
    "CONFIDENCE = 0.5\n",
    "font_scale = 1\n",
    "thickness = 1\n",
    "\n",
    "# loading the YOLOv8 model with the default weight file\n",
    "# model = YOLO(\"yolov8n.pt\")\n",
    "\n",
    "# loading all the class labels (objects)\n",
    "#labels = open(\"coco128.names\").read().strip().split(\"\\n\")\n",
    "\n",
    "# generating colors for each object for later plotting\n",
    "# colors = np.random.randint(0, 255, size=(len(labels), 3), dtype=\"uint8\")\n",
    "\n",
    "path_name = \"C:\\\\Users\\\\evasu\\\\Downloads\\\\fante.jpg\"\n",
    "image = cv2.imread(path_name)\n",
    "file_name = os.path.basename(path_name) # \"dog.jpg\"\n",
    "filename, ext = file_name.split(\".\") # \"dog\", \"jpg\"\n",
    "\n",
    "# measure how much it took in seconds\n",
    "start = time.perf_counter()\n",
    "# run inference on the image \n",
    "# see: https://docs.ultralytics.com/modes/predict/#arguments for full list of arguments\n",
    "results = model.predict(image, conf=CONFIDENCE)[0]\n",
    "time_took = time.perf_counter() - start\n",
    "#print(f\"Time took: {time_took:.2f}s\")\n",
    "#print(results.boxes.data)"
   ]
  },
  {
   "cell_type": "code",
   "execution_count": null,
   "id": "b7090780",
   "metadata": {},
   "outputs": [],
   "source": [
    "# loop over the detections\n",
    "for data in results.boxes.data.tolist():\n",
    "    # get the bounding box coordinates, confidence, and class id \n",
    "    xmin, ymin, xmax, ymax, confidence, class_id = data\n",
    "    # converting the coordinates and the class id to integers\n",
    "    xmin = int(xmin)\n",
    "    ymin = int(ymin)\n",
    "    xmax = int(xmax)\n",
    "    ymax = int(ymax)\n",
    "    class_id = int(class_id)\n",
    "\n",
    "    # draw a bounding box rectangle and label on the image\n",
    "    # color = [int(c) for c in colors[class_id]]\n",
    "    cv2.rectangle(image, (xmin, ymin), (xmax, ymax), color=1, thickness=thickness)\n",
    "    text = \"test\" \n",
    "#     f\"{labels[class_id]}: {confidence:.2f}\"\n",
    "    # calculate text width & height to draw the transparent boxes as background of the text\n",
    "    (text_width, text_height) = cv2.getTextSize(text, cv2.FONT_HERSHEY_SIMPLEX, fontScale=font_scale, thickness=thickness)[0]\n",
    "    text_offset_x = xmin\n",
    "    text_offset_y = ymin - 5\n",
    "    box_coords = ((text_offset_x, text_offset_y), (text_offset_x + text_width + 2, text_offset_y - text_height))\n",
    "    overlay = image.copy()\n",
    "    cv2.rectangle(overlay, box_coords[0], box_coords[1], color=1, thickness=cv2.FILLED)\n",
    "    # add opacity (transparency to the box)\n",
    "    image = cv2.addWeighted(overlay, 0.6, image, 0.4, 0)\n",
    "    # now put the text (label: confidence %)\n",
    "    cv2.putText(image, text, (xmin, ymin - 5), cv2.FONT_HERSHEY_SIMPLEX,\n",
    "        fontScale=font_scale, color=(0, 0, 0), thickness=thickness)\n",
    "\n",
    "# display output image\n",
    "cv2.imshow(\"Image\", image)\n",
    "cv2.waitKey(0)\n",
    "# save output image to disk\n",
    "cv2.imwrite(filename + \"_yolo8.\" + ext, image)"
   ]
  }
 ],
 "metadata": {
  "kernelspec": {
   "display_name": "Python 3 (ipykernel)",
   "language": "python",
   "name": "python3"
  },
  "language_info": {
   "codemirror_mode": {
    "name": "ipython",
    "version": 3
   },
   "file_extension": ".py",
   "mimetype": "text/x-python",
   "name": "python",
   "nbconvert_exporter": "python",
   "pygments_lexer": "ipython3",
   "version": "3.11.1"
  }
 },
 "nbformat": 4,
 "nbformat_minor": 5
}
